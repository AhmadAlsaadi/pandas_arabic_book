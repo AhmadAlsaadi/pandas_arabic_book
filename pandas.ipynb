{
 "cells": [
  {
   "cell_type": "code",
   "execution_count": 2,
   "id": "57ce937c",
   "metadata": {},
   "outputs": [
    {
     "data": {
      "text/html": [
       "<style type=\"text/css\">@import url('https://www.fontstatic.com/f=yassin,amiri-quran,basim-marah,b-compset');\n",
       "\n",
       "\n",
       ".title{\n",
       "direction: rtl;\n",
       "font-size:100px;\n",
       "padding-right: 15px;\n",
       "line-height:10px;\n",
       "font-family:basim-marah;\n",
       "\n",
       "}\n",
       "\n",
       ".arabic{\n",
       "direction:rtl;\n",
       "font-size:20px;\n",
       "line-height:40px;\n",
       "padding-right: 1cm;\n",
       "padding-left: 1cm;\n",
       "text-align:justify;\n",
       "font-family:amiri-quran;\n",
       "}\n",
       "\n",
       ".horizontal{\n",
       "height:2px;\n",
       "border:none;\n",
       "color:#333;\n",
       "background-color:#333;\n",
       "width:75%;\n",
       "}\n",
       ".jupyter-widgets{\n",
       "    font-size:20px;\n",
       "    direction:rtl;\n",
       "    margin-right:25px;\n",
       "    font-family:amiri-quran;\n",
       "        \n",
       "}\n",
       ".widget-radio-box input{\n",
       "    float:right;\n",
       "    direction:ltr;\n",
       "    margin: 0 calc( var(--jp-widgets-input-padding) * 2 ) 0 10px;\n",
       "    text-align:right;\n",
       "    height: 30px;\n",
       "}\n",
       ".widget-radio{\n",
       "    flex-direction: column;\n",
       "    width:unset;\n",
       "    \n",
       "}\n",
       ".widget-label{  \n",
       "    font-family:amiri-quran;\n",
       "    font-size:18px;\n",
       "    height: 40px;\n",
       "}\n",
       "\n",
       ".widget-radio-box label {\n",
       "    font-size:18px;\n",
       "    height: 30px;\n",
       "}\n",
       "\n",
       ".true-grade{\n",
       "    color:green;\n",
       "}\n",
       ".false-grade{\n",
       "    color:red;\n",
       "}\n",
       "label:lang(en){\n",
       "    direction:ltr;\n",
       "    text-align:right;\n",
       "}\n",
       ".s{\n",
       "    line-height:unset;\n",
       "    height:unset;\n",
       "}\n",
       ".CodeMirror-wrap {\n",
       "    font-size:16px;\n",
       "}\n",
       "\n",
       ".basic_table{\n",
       "    font-size:20px;\n",
       "    color:\"green\";\n",
       "}</style>"
      ],
      "text/plain": [
       "<IPython.core.display.HTML object>"
      ]
     },
     "execution_count": 2,
     "metadata": {},
     "output_type": "execute_result"
    }
   ],
   "source": [
    "from IPython.core.display import HTML\n",
    "\n",
    "def _set_css_style(css_file_path):\n",
    "   \"\"\"\n",
    "   Read the custom CSS file and load it into Jupyter.\n",
    "   Pass the file path to the CSS file.\n",
    "   \"\"\"\n",
    "\n",
    "   styles = open(css_file_path, \"r\").read()\n",
    "   s = '<style type=\"text/css\">%s</style>' % styles     \n",
    "   return HTML(s)\n",
    "_set_css_style(\"custom.css\")"
   ]
  },
  {
   "cell_type": "markdown",
   "id": "311afb12",
   "metadata": {},
   "source": [
    "<div class=arabic>\n",
    "فوائد تعلم واستخدام مكتبة pandas\n",
    "</div>"
   ]
  },
  {
   "cell_type": "markdown",
   "id": "5425ff33",
   "metadata": {},
   "source": [
    "<div class=arabic>\n",
    "اولا: المرونة والتي مرتبطة بشكل كبير باستخدم لغة بايثون نفسها\n",
    "   <br> ثانيا: التعامل مع بيانات ضخمة\n",
    "</div>"
   ]
  },
  {
   "cell_type": "markdown",
   "id": "026a777f",
   "metadata": {},
   "source": [
    "<div class=arabic><h2 class=title>طريقة تنصيب مكتبة pandas</h2></div>"
   ]
  },
  {
   "cell_type": "markdown",
   "id": "4988f94b",
   "metadata": {},
   "source": [
    "<div class=arabic>\n",
    "يمكن تنصيب مكتبة pandas كما تعلمنا سابقا في الفصل س وذلك باستخدام الاداة pip كما هو موضح في الاسفل\n",
    "</div>"
   ]
  },
  {
   "cell_type": "code",
   "execution_count": 3,
   "id": "1e5763e7",
   "metadata": {},
   "outputs": [
    {
     "name": "stdout",
     "output_type": "stream",
     "text": [
      "Requirement already satisfied: pandas in c:\\users\\al7ak\\appdata\\local\\packages\\pythonsoftwarefoundation.python.3.9_qbz5n2kfra8p0\\localcache\\local-packages\\python39\\site-packages (1.3.0)\n",
      "Requirement already satisfied: numpy>=1.17.3 in c:\\users\\al7ak\\appdata\\local\\packages\\pythonsoftwarefoundation.python.3.9_qbz5n2kfra8p0\\localcache\\local-packages\\python39\\site-packages (from pandas) (1.21.0)\n",
      "Requirement already satisfied: python-dateutil>=2.7.3 in c:\\users\\al7ak\\appdata\\local\\packages\\pythonsoftwarefoundation.python.3.9_qbz5n2kfra8p0\\localcache\\local-packages\\python39\\site-packages (from pandas) (2.8.1)\n",
      "Requirement already satisfied: pytz>=2017.3 in c:\\users\\al7ak\\appdata\\local\\packages\\pythonsoftwarefoundation.python.3.9_qbz5n2kfra8p0\\localcache\\local-packages\\python39\\site-packages (from pandas) (2021.1)\n",
      "Requirement already satisfied: six>=1.5 in c:\\users\\al7ak\\appdata\\local\\packages\\pythonsoftwarefoundation.python.3.9_qbz5n2kfra8p0\\localcache\\local-packages\\python39\\site-packages (from python-dateutil>=2.7.3->pandas) (1.16.0)\n",
      "Note: you may need to restart the kernel to use updated packages.\n"
     ]
    }
   ],
   "source": [
    "pip install pandas"
   ]
  },
  {
   "cell_type": "markdown",
   "id": "528ddcb4",
   "metadata": {},
   "source": [
    "<div class=arabic>\n",
    "قد تستغرق عملية التنصيب بعض الوقت لذلك عليك بالانتظار حتى انتهاء عملية التنصيب. ولتأكد من ان عملية التنصيب تمت بشكل صحيح قم باستدعاء المكتبة كما تعلمت سابقا باستخدام الكود البرمجي التالي:\n",
    "</div>"
   ]
  },
  {
   "cell_type": "code",
   "execution_count": 4,
   "id": "083758f4",
   "metadata": {},
   "outputs": [],
   "source": [
    "import pandas as pd"
   ]
  },
  {
   "cell_type": "markdown",
   "id": "22c184f1",
   "metadata": {},
   "source": [
    "<div class=arabic>\n",
    "    اذا لم يظهر لك مفسر بايثون رسالة خطأ تفيد ان مكتبة pandas  غير موجوده فهذا يعني ان عملية تنصيب المكتبة وعملية استدعائها تمت بشكل صحيح.\n",
    "</div>"
   ]
  },
  {
   "cell_type": "markdown",
   "id": "5c665c37",
   "metadata": {},
   "source": [
    "<div class=arabic><h2 class=title>انواع البيانات التجميعية في pandas</h2></div>"
   ]
  },
  {
   "cell_type": "markdown",
   "id": "31fd4080",
   "metadata": {},
   "source": [
    "<div class=arabic>\n",
    "    تقوم مكتبة pandas بتكوين نوعين رئيسين من البيانات التجمعية قبل ان تمكن المستخدم من القيام باجراء عمليات تحليل ومعالجة للبيانات وسوف نقوم بشرح هذين النوعين على النحو التالي:\n",
    "</div>"
   ]
  },
  {
   "cell_type": "markdown",
   "id": "63ba1736",
   "metadata": {},
   "source": [
    "<div class=arabic>\n",
    "    اولا: المتسلسلات Series <br>\n",
    "    يمكن تعريف متسلسات مكتبة pandas على انها مجموعة من البيانات التى يمكن تمثيلها بعمود واحد. فيمكن ان تكون هذه البيانات عبارة قائمة اعتيادية في بايثون فيتم انشاء متسلسلة pandas من هذه القائمة باستخدام الدالة ()Series كما في المثال التالي:  \n",
    "\n",
    "</div>"
   ]
  },
  {
   "cell_type": "code",
   "execution_count": 17,
   "id": "b63bc3e2",
   "metadata": {},
   "outputs": [
    {
     "data": {
      "text/plain": [
       "0    1.0\n",
       "1    3.0\n",
       "2    5.0\n",
       "3    NaN\n",
       "4    6.0\n",
       "5    8.0\n",
       "dtype: float64"
      ]
     },
     "execution_count": 17,
     "metadata": {},
     "output_type": "execute_result"
    }
   ],
   "source": [
    "s = pd.Series([1, 3, 5, np.nan, 6, 8])\n",
    "s"
   ]
  },
  {
   "cell_type": "markdown",
   "id": "1bd76c7a",
   "metadata": {},
   "source": [
    "<div class=arabic>\n",
    "لاحظ انه تم تمثيل البيانات الموجودة في القائمة على شكل عمود كما تم ادرج عمود اخر بشكل تلقائي الى يسار هذه البيانات يسمى المؤشر index والذي يدل على موضع كل بيان في المتسلسلة. \n",
    "</div>"
   ]
  },
  {
   "cell_type": "markdown",
   "id": "5dec23f8",
   "metadata": {},
   "source": [
    "<div class=arabic>\n",
    "ويمكن استخدام الدالة ()type كما تعلمنا من قبل لنتعرف على نوع البيانات التي تنتج من هذه العملية كما في المثال التالي:\n",
    "</div>"
   ]
  },
  {
   "cell_type": "code",
   "execution_count": 16,
   "id": "0199020b",
   "metadata": {},
   "outputs": [
    {
     "data": {
      "text/plain": [
       "pandas.core.series.Series"
      ]
     },
     "execution_count": 16,
     "metadata": {},
     "output_type": "execute_result"
    }
   ],
   "source": [
    "type(s)"
   ]
  },
  {
   "cell_type": "markdown",
   "id": "ee5cf417",
   "metadata": {},
   "source": [
    "<div class=arabic>\n",
    "\n",
    "</div>"
   ]
  },
  {
   "cell_type": "markdown",
   "id": "5c06eee7",
   "metadata": {},
   "source": [
    "<div class=arabic>\n",
    "كما يمكن انشاء متسلسلة pandas من قاموس بايثون كما في المثال التالي:\n",
    "</div>"
   ]
  },
  {
   "cell_type": "code",
   "execution_count": 7,
   "id": "350ff571",
   "metadata": {},
   "outputs": [
    {
     "data": {
      "text/plain": [
       "time        1\n",
       "speed       3\n",
       "distance    5\n",
       "dtype: int64"
      ]
     },
     "execution_count": 7,
     "metadata": {},
     "output_type": "execute_result"
    }
   ],
   "source": [
    "dict={\"time\":1,\"speed\":3,\"distance\":5}\n",
    "s2=pd.Series(dict)\n",
    "s2"
   ]
  },
  {
   "cell_type": "code",
   "execution_count": 8,
   "id": "749a2db7",
   "metadata": {},
   "outputs": [
    {
     "data": {
      "text/plain": [
       "pandas.core.series.Series"
      ]
     },
     "execution_count": 8,
     "metadata": {},
     "output_type": "execute_result"
    }
   ],
   "source": [
    "type(s2)"
   ]
  },
  {
   "cell_type": "code",
   "execution_count": 10,
   "id": "1b19fb01",
   "metadata": {},
   "outputs": [
    {
     "data": {
      "text/plain": [
       "Index(['time', 'speed', 'distance'], dtype='object')"
      ]
     },
     "execution_count": 10,
     "metadata": {},
     "output_type": "execute_result"
    }
   ],
   "source": [
    "s2.index"
   ]
  },
  {
   "cell_type": "code",
   "execution_count": 21,
   "id": "e5e2ba28",
   "metadata": {},
   "outputs": [
    {
     "name": "stdout",
     "output_type": "stream",
     "text": [
      "['2', '3', '5', '7', '11', '13', '17', '19', '23', '29', '31', '37', '41', '43', '47', '53', '59', '61', '67', '71', '73', '79', '83', '89', '97']\n"
     ]
    }
   ],
   "source": [
    "# Python program to display all the prime numbers within an interval\n",
    "import numpy as np\n",
    "import matplotlib.pyplot as plt\n",
    "n=1\n",
    "lower = 1\n",
    "upper = n*100\n",
    "\n",
    "#print(\"Prime numbers between\", lower, \"and\", upper, \"are:\")\n",
    "prime=[]\n",
    "for num in range(lower, upper + 1):\n",
    "    # all prime numbers are greater than 1\n",
    "    if num > 1:\n",
    "        for i in range(2, num):\n",
    "            if (num % i) == 0:\n",
    "                break\n",
    "        else:\n",
    "            prime.append(str(num))\n",
    "print(prime)"
   ]
  },
  {
   "cell_type": "code",
   "execution_count": null,
   "id": "59fc9f86",
   "metadata": {},
   "outputs": [],
   "source": []
  }
 ],
 "metadata": {
  "kernelspec": {
   "display_name": "Python 3 (ipykernel)",
   "language": "python",
   "name": "python3"
  },
  "language_info": {
   "codemirror_mode": {
    "name": "ipython",
    "version": 3
   },
   "file_extension": ".py",
   "mimetype": "text/x-python",
   "name": "python",
   "nbconvert_exporter": "python",
   "pygments_lexer": "ipython3",
   "version": "3.9.6"
  }
 },
 "nbformat": 4,
 "nbformat_minor": 5
}
